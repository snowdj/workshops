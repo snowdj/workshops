{
 "cells": [
  {
   "cell_type": "markdown",
   "metadata": {},
   "source": [
    "# Introduction to Python exercise solutions\n",
    "\n",
    "## Exercise: Reading text from a file and splitting\n",
    "*Alice's Adventures in Wonderland* is full of memorable characters. The main characters from the story are listed, one-per-line, in the file named `Characters.txt`.\n",
    "\n",
    "NOTE: we will not always explicitly demonstrate everything you need to know in order to complete an exercise. Instead we focus on teaching you how to discover available methods and how use the help function to learn how to use them. It is expected that you will spend some time during the exercises looking for appropriate methods and perhaps reading documentation."
   ]
  },
  {
   "cell_type": "code",
   "execution_count": null,
   "metadata": {},
   "outputs": [],
   "source": [
    "# 1. Open the `Characters.txt` file and read its contents.\n",
    "characters_txt = open(\"Characters.txt\").read()"
   ]
  },
  {
   "cell_type": "code",
   "execution_count": null,
   "metadata": {},
   "outputs": [],
   "source": [
    "# 2. Split text on newlines to produce a list with one element per line.\n",
    "#    Store the result as \"alice_characters\".\n",
    "alice_characters = characters_txt.splitlines()"
   ]
  },
  {
   "cell_type": "markdown",
   "metadata": {},
   "source": [
    "## Exercise: count the number of main characters\n",
    "So far we've learned that there are 12 chapters, around 830 paragraphs, and about 26 thousand words in *Alice's Adventures in Wonderland*. Along the way we've also learned how to open a file and read its contents, split strings,  calculate the length of objects, discover methods for string and list objects, and index/subset lists in Python. Now it is time for you to put these skills to use to learn something about the main characters in the story."
   ]
  },
  {
   "cell_type": "code",
   "execution_count": null,
   "metadata": {},
   "outputs": [],
   "source": [
    "# 1. Count the number of main characters in the story (i.e., get the length\n",
    "#    of the list you created in previous exercise).\n"
   ]
  },
  {
   "cell_type": "code",
   "execution_count": null,
   "metadata": {},
   "outputs": [],
   "source": [
    "# 2. Extract and print just the first character from the list you created in\n",
    "#    the previous exercise.\n"
   ]
  },
  {
   "cell_type": "code",
   "execution_count": null,
   "metadata": {
    "lines_to_next_cell": 2
   },
   "outputs": [],
   "source": [
    "# 3. (BONUS, optional): Sort the list you created in step 2 alphabetically, and then extract the last element.\n"
   ]
  },
  {
   "cell_type": "markdown",
   "metadata": {},
   "source": [
    "## Exercise: Iterating and counting things\n",
    "Now that we know how to iterate using for-loops and list comprehensions the possibilities really start to open up. For example, we can use these techniques to count the number of times each character appears in the story."
   ]
  },
  {
   "cell_type": "code",
   "execution_count": null,
   "metadata": {},
   "outputs": [],
   "source": [
    "# 1. Make sure you have both the text and the list of characters.\n",
    "#\n",
    "# Open and read both \"Alice_in_wonderland.txt\" and\n",
    "# \"Characters.txt\" if you have not already done so.\n",
    "\n",
    "characters_txt = open(\"Characters.txt\").read()\n",
    "alice_txt = open(\"Alice_in_wonderland.txt\").read()\n"
   ]
  },
  {
   "cell_type": "code",
   "execution_count": null,
   "metadata": {},
   "outputs": [],
   "source": [
    "# 2. Which chapter has the most words?\n",
    "#\n",
    "# Split the text into chaptes (i.e., split on \"CHAPTER \")\n",
    "# and use a for-loop or list comprehension to iterate over\n",
    "# the chapters. For each chapter, split it into words and \n",
    "# calculate the length.\n",
    "\n",
    "alice_chapters = alice_txt.split(\"CHAPTER \")[1:]\n",
    "[len(chapter.split()) for chapter in alice_chapters]"
   ]
  },
  {
   "cell_type": "markdown",
   "metadata": {},
   "source": [
    "Chapter 4 has the most words (2614)"
   ]
  },
  {
   "cell_type": "code",
   "execution_count": null,
   "metadata": {},
   "outputs": [],
   "source": [
    "# 3. How many times is each character mentioned in the text?\n",
    "\n",
    "# Iterate over the list of characters using a for-loop or \n",
    "# list comprehension. For each character, call the count method\n",
    "# with that character as the argument.\n",
    "\n",
    "[alice_txt.count(character) \n",
    " for character in characters_txt.splitlines()]"
   ]
  },
  {
   "cell_type": "code",
   "execution_count": null,
   "metadata": {},
   "outputs": [],
   "source": [
    "# 4. (BONUS, optional): Put the character counts computed \n",
    "#    above in a dictionary with character names as the keys and \n",
    "#    counts as the values.\n",
    "\n",
    "characters = characters_txt.splitlines()\n",
    "\n",
    "character_mentions = [alice_txt.count(character) \n",
    "                      for character in characters]\n",
    "\n",
    "dict(zip(characters, character_mentions))"
   ]
  },
  {
   "cell_type": "code",
   "execution_count": null,
   "metadata": {},
   "outputs": [],
   "source": [
    "# 5. (BONUS, optional): Use a nested for-loop or nested comprehension \n",
    "#    to calculate the number of times each character is mentioned \n",
    "#    in each chapter.\n",
    "\n",
    "{chapter.splitlines()[0]: \n",
    " {character: chapter.count(character) \n",
    "  for character in characters}\n",
    " for chapter in alice_chapters}\n"
   ]
  }
 ],
 "metadata": {
  "jupytext_format_version": "1.0",
  "jupytext_formats": "ipynb,md:markdown,py",
  "kernelspec": {
   "display_name": "Python 3",
   "language": "python",
   "name": "python3"
  },
  "language_info": {
   "codemirror_mode": {
    "name": "ipython",
    "version": 3
   },
   "file_extension": ".py",
   "mimetype": "text/x-python",
   "name": "python",
   "nbconvert_exporter": "python",
   "pygments_lexer": "ipython3",
   "version": "3.7.0"
  },
  "toc": {
   "base_numbering": 1,
   "nav_menu": {},
   "number_sections": true,
   "sideBar": true,
   "skip_h1_title": true,
   "title_cell": "Table of Contents",
   "title_sidebar": "Contents",
   "toc_cell": false,
   "toc_position": {},
   "toc_section_display": true,
   "toc_window_display": true
  }
 },
 "nbformat": 4,
 "nbformat_minor": 2
}
