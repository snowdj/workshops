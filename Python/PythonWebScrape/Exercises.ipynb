{
 "cells": [
  {
   "cell_type": "raw",
   "metadata": {},
   "source": [
    "---\n",
    "title: \"Web scraping with Python Exercises\"\n",
    "output: ioslides_presentation\n",
    "---"
   ]
  },
  {
   "cell_type": "markdown",
   "metadata": {},
   "source": [
    "## Exercise: Retrieve exhibits data {.smaller}\n",
    "In this exercise you will retrieve information about the art\n",
    "exhibitions at Harvard Art Museums from\n",
    "`https://www.harvardartmuseums.org/visit/exhibitions`\n",
    "\n",
    "1. Using a web browser (Firefox or Chrome recommended) inspect the\n",
    "   page at `https://www.harvardartmuseums.org/visit/exhibitions`. Examine\n",
    "   the network traffic as you interact with the page. Try to find\n",
    "   where the data displayed on that page comes from.\n",
    "2. Make a `get` request in Python to retrieve the data from the URL\n",
    "   identified in step1.\n",
    "3. Write a *loop* or *list comprehension* in Python to retrieve data\n",
    "   for the first 5 pages of exhibitions data.\n",
    "4. Bonus (optional): Arrange the data you retrieved into dict of\n",
    "   lists. Convert it to a pandas `DataFrame` and save it to a `.csv`\n",
    "   file."
   ]
  },
  {
   "cell_type": "markdown",
   "metadata": {},
   "source": [
    "## Exercise: parsing HTML {.smaller}\n",
    "In this exercise you will retrieve information about the physical\n",
    "layout of the Harvard Art Museums. The web page at\n",
    "<https://www.harvardartmuseums.org/visit/floor-plan> contains this\n",
    "information in HTML from.\n",
    "\n",
    "1. Using a web browser (Firefox or Chrome recommended) inspect the\n",
    "   page at `https://www.harvardartmuseums.org/visit/floor-plan`. Copy\n",
    "   the `XPath` to the element containing list of facilities located on\n",
    "   **level 1**. information. (HINT: the element if interest is a `ul`,\n",
    "   i.e., an \"unordered list\" of class `ifp-floors__rooms`.)\n",
    "2. Make a `get` request in Python to retrieve the web page at\n",
    "   <https://www.harvardartmuseums.org/visit/floor-plan>. Extract the\n",
    "   content from your request object and parse it using `html.fromstring`\n",
    "   from the `lxml` library.\n",
    "3. Use the `XPath` you identified in step one to select the HTML list item\n",
    "   containing level one information.\n",
    "4. Use a *for loop* or *list comprehension* to iterate over the\n",
    "   sub-elements of the list item you selected in the previous step and\n",
    "   extract the text from each one.   \n",
    "5. Bonus (optional): Extract the list of facilities available on each level."
   ]
  }
 ],
 "metadata": {
  "jupytext_format_version": "1.0",
  "jupytext_formats": "ipynb,Rmd:rmarkdown,py,md:markdown",
  "kernelspec": {
   "display_name": "Python 3",
   "language": "python",
   "name": "python3"
  },
  "language_info": {
   "codemirror_mode": {
    "name": "ipython",
    "version": 3
   },
   "file_extension": ".py",
   "mimetype": "text/x-python",
   "name": "python",
   "nbconvert_exporter": "python",
   "pygments_lexer": "ipython3",
   "version": "3.7.0"
  },
  "toc": {
   "base_numbering": 1,
   "nav_menu": {},
   "number_sections": true,
   "sideBar": true,
   "skip_h1_title": true,
   "title_cell": "Table of Contents",
   "title_sidebar": "Contents",
   "toc_cell": false,
   "toc_position": {},
   "toc_section_display": true,
   "toc_window_display": true
  }
 },
 "nbformat": 4,
 "nbformat_minor": 2
}
