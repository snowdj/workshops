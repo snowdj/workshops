{
 "cells": [
  {
   "cell_type": "raw",
   "metadata": {},
   "source": [
    "---\n",
    "title: \"Introduction to R workshop notes\"\n",
    "always_allow_html: yes\n",
    "output: \n",
    "  html_document:\n",
    "    highlight: tango\n",
    "    toc: true\n",
    "    toc_float:\n",
    "      collapsed: true\n",
    "---"
   ]
  },
  {
   "cell_type": "code",
   "execution_count": null,
   "metadata": {
    "hide_input": true,
    "results": "'hide'"
   },
   "outputs": [],
   "source": [
    "options(max.print = 100)\n",
    "knitr::opts_chunk$set(message = FALSE)"
   ]
  },
  {
   "cell_type": "markdown",
   "metadata": {},
   "source": [
    "Welcome\n",
    "========\n",
    "\n",
    "Materials and setup \n",
    "-------------------\n",
    "\n",
    "**NOTE: skip this section if you are not running R locally** (e.g., if you are\n",
    "running R in your browser using a remote Jupyter server)\n",
    "\n",
    "You should have R installed --if not:\n",
    "\n",
    "-   Download and install R from http://cran.r-project.org\n",
    "-   Download and install RStudio from https://www.rstudio.com/products/rstudio/download/#download\n",
    "\n",
    "Notes and examples for this workshop are available at \n",
    "[](http://tutorials.iq.harvard.edu/R/Rintro/Rintro.html)\n",
    "\n",
    "Start RStudio create a new project:\n",
    "-   On Windows click the start button and search for rstudio. On Mac\n",
    "    RStudio will be in your applications folder.\n",
    "-   In Rstudio go to `File -> New Project`.\n",
    "-   Choose `New Directory` and `New Project`.\n",
    "-   Choose a name and location for your new project directory.\n",
    "\n",
    "Workshop goals and approach\n",
    "---------------------------\n",
    "\n",
    "In this workshop you will\n",
    "\n",
    "-  learn R basics,\n",
    "-  learn about the R package ecosystem,\n",
    "-  practice reading files and manipulating data in R\n",
    "\n",
    "A more general goal is to get you comfortable with R so that it seems less scary and mystifying than it perhaps does now. Note that this is by no means a complete or thorough introduction to R! It's just enough to get you started.\n",
    "\n",
    "This workshop is relatively informal, example-oriented, and hands-on. We won't spend much time examining language features in detail. Instead we will work through an example, and learn some things about the R  along the way.\n",
    "\n",
    "As an example project we will analyze the popularity of baby names in the US from 1960 through 2017. Among the questions we will use R to answer are:\n",
    "\n",
    "-  In which year did your name achieve peak popularity?\n",
    "-  How many children were born each year?\n",
    "-  What are the most popular names overall? For girls? For Boys?"
   ]
  },
  {
   "cell_type": "markdown",
   "metadata": {
    "lines_to_next_cell": 0
   },
   "source": [
    "Graphical User Interfaces (GUIs)\n",
    "================================\n",
    "\n",
    "There are many different ways you can interact with R. See the\n",
    "[Data Science Tools workshop notes](http://tutorials.iq.harvard.edu/DataScienceTools/DataScienceTools.html) \n",
    "for details.\n",
    "\n",
    "For this workshop I encourage you to use RStudio; it is a good\n",
    "R-specific IDE that mostly just works.\n",
    "\n",
    "Launch RStudio (skip if not using Rstudio)\n",
    "------------------------------------------\n",
    "**Note: skip this section if you are not using Rstudio (e.g., if you are running\n",
    "these examples in a Jupyter notebook).**\n",
    "\n",
    "-   Start the RStudio program\n",
    "-   In RStudio, go to **File =&gt; New File =&gt R Script**\n",
    "\n",
    "The window in the upper-left is your R script. This is where you will\n",
    "write instructions for R to carry out.\n",
    "\n",
    "The window in the lower-left is the R console. This is where results\n",
    "will be displayed.\n",
    "\n",
    "Exercise 0\n",
    "----------\n",
    "\n",
    "The purpose of this exercise is to give you an opportunity to explore\n",
    "the interface provided by RStudio (or whichever GUI you've decided to\n",
    "use). You may not know how to do these things; that's fine! This is an\n",
    "opportunity to figure it out.\n",
    "\n",
    "Also keep in mind that we are living in a golden age of tab completion.\n",
    "If you don't know the name of an R function, try guessing the first two\n",
    "or three letters and pressing TAB. If you guessed correctly the function\n",
    "you are looking for should appear in a pop up!\n",
    "\n",
    "-------------------------------------------\n",
    "\n",
    "1.  Try to get R to add 2 plus 2."
   ]
  },
  {
   "cell_type": "code",
   "execution_count": null,
   "metadata": {
    "lines_to_next_cell": 0
   },
   "outputs": [],
   "source": [
    "##"
   ]
  },
  {
   "cell_type": "markdown",
   "metadata": {
    "lines_to_next_cell": 0
   },
   "source": [
    "2.  Try to calculate the square root of 10."
   ]
  },
  {
   "cell_type": "code",
   "execution_count": null,
   "metadata": {
    "lines_to_next_cell": 0
   },
   "outputs": [],
   "source": [
    "##"
   ]
  },
  {
   "cell_type": "markdown",
   "metadata": {},
   "source": [
    "3.  R includes extensive documentation, including a manual named \"An\n",
    "    introduction to R\". Use the RStudio help pane. to locate this manual."
   ]
  },
  {
   "cell_type": "markdown",
   "metadata": {},
   "source": [
    "Exercise 0 solution<span class=\"tag\" data-tag-name=\"prototype\"></span>\n",
    "----------------------------------------------------------------------\n"
   ]
  },
  {
   "cell_type": "code",
   "execution_count": null,
   "metadata": {
    "purl": false
   },
   "outputs": [],
   "source": [
    "## 1. 2 plus 2\n",
    "2 + 2\n",
    "## or\n",
    "sum(2, 2)"
   ]
  },
  {
   "cell_type": "code",
   "execution_count": null,
   "metadata": {
    "lines_to_next_cell": 2
   },
   "outputs": [],
   "source": [
    "## 2. square root of 10:\n",
    "sqrt(10)\n",
    "## or\n",
    "10^(1/2)"
   ]
  },
  {
   "cell_type": "code",
   "execution_count": null,
   "metadata": {},
   "outputs": [],
   "source": [
    "## 3. Find \"An Introduction to R\"."
   ]
  },
  {
   "cell_type": "code",
   "execution_count": null,
   "metadata": {},
   "outputs": [],
   "source": [
    "## Go to the main help page by running 'help.start() or using the GUI\n",
    "## menu, find and click on the link to \"An Introduction to R\"."
   ]
  },
  {
   "cell_type": "code",
   "execution_count": null,
   "metadata": {},
   "outputs": [],
   "source": []
  },
  {
   "cell_type": "markdown",
   "metadata": {},
   "source": [
    "R basics\n",
    "========"
   ]
  },
  {
   "cell_type": "markdown",
   "metadata": {},
   "source": [
    "Function calls\n",
    "---------\n",
    "\n",
    "The general form for calling R functions is"
   ]
  },
  {
   "cell_type": "code",
   "execution_count": null,
   "metadata": {
    "eval": false
   },
   "outputs": [],
   "source": [
    "## FunctionName(arg.1 = value.1, arg.2 = value.2, ..., arg.n - value.n)"
   ]
  },
  {
   "cell_type": "markdown",
   "metadata": {},
   "source": [
    "Arguments can be matched by name; unnamed arguments will be matched by position.\n",
    "\n",
    "Assignment\n",
    "----------\n",
    "\n",
    "Values can be assigned names and used in subsequent operations\n",
    "\n",
    "-   The `<-` operator (less than followed by a dash) is used to save\n",
    "    values\n",
    "-   The name on the left gets the value on the right."
   ]
  },
  {
   "cell_type": "code",
   "execution_count": null,
   "metadata": {},
   "outputs": [],
   "source": [
    "sqrt(10) ## calculate square root of 10; result is not stored anywhere\n",
    "x <- sqrt(10) # assign result to a variable named x"
   ]
  },
  {
   "cell_type": "markdown",
   "metadata": {},
   "source": [
    "Names should start with a letter, and contain only letters, numbers, underscores, and periods."
   ]
  },
  {
   "cell_type": "markdown",
   "metadata": {},
   "source": [
    "Asking R for help\n",
    "---------------------\n",
    "\n",
    "You can ask R for help using the `help` function, or the `?` shortcut."
   ]
  },
  {
   "cell_type": "code",
   "execution_count": null,
   "metadata": {},
   "outputs": [],
   "source": [
    "help(help)"
   ]
  },
  {
   "cell_type": "markdown",
   "metadata": {},
   "source": [
    "The `help` function can be used to look up the documentation for a function, or\n",
    "to look up the documentation to a package. We can learn how to use the `stats`\n",
    "package by reading its documentation like this:"
   ]
  },
  {
   "cell_type": "code",
   "execution_count": null,
   "metadata": {
    "eval": false,
    "lines_to_next_cell": 2
   },
   "outputs": [],
   "source": [
    "help(package = \"stats\")"
   ]
  },
  {
   "cell_type": "markdown",
   "metadata": {},
   "source": [
    "Getting data into R\n",
    "===================\n",
    "\n",
    "R has data reading functionality built-in -- see e.g.,\n",
    "`help(read.table)`. However, faster and more robust tools are\n",
    "available, and so to make things easier on ourselves we will use a\n",
    "*contributed package* called `readr` instead. This requires that we\n",
    "learn a little bit about packages in R.\n",
    "\n",
    "Installing and using R packages\n",
    "----------------------------------------------------\n",
    "\n",
    "A large number of contributed packages are available. If you are\n",
    "looking for a package for a specific task,\n",
    "https://cran.r-project.org/web/views/ and https://r-pkg.org are good\n",
    "places to start.\n",
    "\n",
    "You can install a package in R using the `install.packages()`\n",
    "function. Once a package is installed you may use the `library`\n",
    "function to attach it so that it can be used."
   ]
  },
  {
   "cell_type": "code",
   "execution_count": null,
   "metadata": {},
   "outputs": [],
   "source": [
    "## install.packages(\"readr\")\n",
    "library(readr)"
   ]
  },
  {
   "cell_type": "markdown",
   "metadata": {},
   "source": [
    "Readers for common file types\n",
    "-----------------------------\n",
    "\n",
    "In order to read data from a file, you have to know what kind of file\n",
    "it is. The table below lists functions that can import data from\n",
    "common plain-text formats.\n",
    "\n",
    "| Data Type                 | Function        |\n",
    "| ------------------------- | --------------- |\n",
    "| comma separated           | `read_csv()`    |\n",
    "| tab separated             | `read_delim()`  |\n",
    "| other delimited formats   | `read_table()`  |\n",
    "| fixed width               | `read_fwf()`    |\n",
    "\n",
    "**Note** You may be confused by the existence of similar functions,\n",
    "e.g., `read.csv` and `read.delim`. These are legacy functions that\n",
    "tend to be slower and less robust than the `readr` functions. One way\n",
    "to tell them apart is that the faster more robust versions use\n",
    "underscores in their names (e.g., `read_csv`) while the older\n",
    "functions us dots (e.g., `read.csv`). My advice is to use the more\n",
    "robust newer versions, i.e., the ones with underscores.\n",
    "\n",
    "Baby names data\n",
    "---------------\n",
    "\n",
    "The examples in this workshop use US baby names data retrieved from\n",
    "https://catalog.data.gov/dataset/baby-names-from-social-security-card-applications-national-level-data\n",
    "A cleaned and merged version of these data is available at\n",
    "`http://tutorials.iq.harvard.edu/data/babyNames.csv`."
   ]
  },
  {
   "cell_type": "markdown",
   "metadata": {},
   "source": [
    "Exercise 1: Reading the baby names data\n",
    "---------------------------------------\n",
    "\n",
    "Make sure you have installed the `readr` package and attached it with `library(readr)`.\n",
    "\n",
    "Baby names data are available at `\"http://tutorials.iq.harvard.edu/data/babyNames.csv\"`.\n",
    "\n",
    "1. Open the `read_csv` help page to determine how to use it to read in data.\n",
    "\n",
    "2. Read the baby names data using the `read_csv` function and assign the result \n",
    "with the name `baby.names`.\n",
    "\n",
    "3. BONUS (optional): Save the `baby.names` data as a Stata data set `babynames.dta` \n",
    "and as an R data set `babynames.rds`."
   ]
  },
  {
   "cell_type": "markdown",
   "metadata": {},
   "source": [
    "Exercise 1 solution<span class=\"tag\" data-tag-name=\"prototype\"></span>\n",
    "----------------------------------------------------------------------"
   ]
  },
  {
   "cell_type": "code",
   "execution_count": null,
   "metadata": {
    "message": false,
    "purl": false,
    "results": false
   },
   "outputs": [],
   "source": [
    "## read ?read_csv"
   ]
  },
  {
   "cell_type": "code",
   "execution_count": null,
   "metadata": {},
   "outputs": [],
   "source": [
    "baby.names <- read_csv(\"http://tutorials.iq.harvard.edu/data/babyNames.csv\")"
   ]
  },
  {
   "cell_type": "markdown",
   "metadata": {},
   "source": [
    "Popularity of your name\n",
    "=======================\n",
    "\n",
    "In this section we will pull out specific names and examine changes in \n",
    "their popularity over time. \n",
    "\n",
    "The `baby.names` object we created in the last exercise is a `data.frame`.\n",
    "There are many other data structures in R, but for now we'll focus on \n",
    "working with `data.frames`. \n",
    "\n",
    "R has decent data manipulation tools built-in -- see e.g.,\n",
    "`help(Extract)`. However, these tools are powerful and complex and\n",
    "often overwhelm beginners. To make things easier on ourselves we will\n",
    "use a *contributed package* called `dplyr` instead."
   ]
  },
  {
   "cell_type": "code",
   "execution_count": null,
   "metadata": {},
   "outputs": [],
   "source": [
    "## install.packages(\"dplyr\")\n",
    "library(dplyr)"
   ]
  },
  {
   "cell_type": "markdown",
   "metadata": {},
   "source": [
    "Filtering and arranging data\n",
    "----------------------------\n",
    "\n",
    "One way to find the year in which your name was the most popular\n",
    "is to filter out just the rows corresponding to your name, and \n",
    "then arrange (sort) by Count. \n",
    "\n",
    "To demonstrate these techniques we'll try to determine whether \n",
    "\"Alex\"\" or \"Jim\" was more popular in 1992. We start by filtering the\n",
    "data so that we keep only rows where Year is equal to `1992` and Name is\n",
    "either \"Alex\" or \"Mark\"."
   ]
  },
  {
   "cell_type": "code",
   "execution_count": null,
   "metadata": {
    "lines_to_next_cell": 2
   },
   "outputs": [],
   "source": [
    "am <- filter(baby.names, \n",
    "             Year == 1992 & (Name == \"Alex\" | Name == \"Mark\"))\n",
    "am"
   ]
  },
  {
   "cell_type": "markdown",
   "metadata": {},
   "source": [
    "Notice that we can we can combine conditons using `&` (AND) \n",
    "and `|` (OR). \n",
    "\n",
    "In this case it's pretty easy to see that \"Mark\" is more popular, \n",
    "but to make it even easier we can arrange the data so that the \n",
    "most popular name is listed first."
   ]
  },
  {
   "cell_type": "code",
   "execution_count": null,
   "metadata": {},
   "outputs": [],
   "source": [
    "arrange(am, Count)"
   ]
  },
  {
   "cell_type": "code",
   "execution_count": null,
   "metadata": {
    "lines_to_next_cell": 2
   },
   "outputs": [],
   "source": [
    "arrange(am, desc(Count))"
   ]
  },
  {
   "cell_type": "markdown",
   "metadata": {},
   "source": [
    "Other logical operators\n",
    "-----------------------\n",
    "\n",
    "In the previous example we used `==` to filter rows. Other relational\n",
    "and logical operators are listed below.\n",
    "\n",
    " | Operator  | Meaning                   | \n",
    " | ----------| --------------------------| \n",
    " | `==`      | equal to                  | \n",
    " | `!=`      | not equal to              | \n",
    " | `>`       | greater than              | \n",
    " | `>=`      | greater than or equal to  | \n",
    " | `<`       | less than                 | \n",
    " | `<=`      | less than or equal to     | \n",
    " | `%in%`    | contained in              | \n",
    "\n",
    "These operators may be combined with `&` (and) or `|` (or)."
   ]
  },
  {
   "cell_type": "markdown",
   "metadata": {
    "lines_to_next_cell": 0
   },
   "source": [
    "Exercise 2: Peak popularity of your name\n",
    "-----------------------------\n",
    "\n",
    "In this exercise you will discover the year your name reached its maximum popularity.\n",
    "\n",
    "Read in the \"babyNames.csv\" file if you have not already done so,\n",
    "assigning the result to `baby.names`. The file is located at \n",
    "`\"http://tutorials.iq.harvard.edu/data/babyNames.csv\"`\n",
    "\n",
    "Make sure you have installed the `dplyr` package and attached it with `library(dplyr)`.\n",
    "\n",
    "1.  Use `filter` to extract data for your name (or another name of your choice).  "
   ]
  },
  {
   "cell_type": "code",
   "execution_count": null,
   "metadata": {},
   "outputs": [],
   "source": [
    "##"
   ]
  },
  {
   "cell_type": "markdown",
   "metadata": {
    "lines_to_next_cell": 0
   },
   "source": [
    "2.  Arrange the data you produced in step 1 above by `Count`. \n",
    "    In which year was the name most popular?"
   ]
  },
  {
   "cell_type": "code",
   "execution_count": null,
   "metadata": {},
   "outputs": [],
   "source": [
    "##"
   ]
  },
  {
   "cell_type": "markdown",
   "metadata": {
    "lines_to_next_cell": 0
   },
   "source": [
    "3.  BONUS (optional): Filter the data to extract *only* the \n",
    "     row containing the most popular boys name in 1999."
   ]
  },
  {
   "cell_type": "code",
   "execution_count": null,
   "metadata": {
    "lines_to_next_cell": 2
   },
   "outputs": [],
   "source": [
    "##"
   ]
  },
  {
   "cell_type": "markdown",
   "metadata": {},
   "source": [
    "Exercise 2 solution<span class=\"tag\" data-tag-name=\"prototype\"></span>\n",
    "----------------------------------------------------------------------"
   ]
  },
  {
   "cell_type": "code",
   "execution_count": null,
   "metadata": {
    "purl": false
   },
   "outputs": [],
   "source": [
    "# 1.  Use `filter` to extract data for your name (or another name of your choice).  "
   ]
  },
  {
   "cell_type": "code",
   "execution_count": null,
   "metadata": {},
   "outputs": [],
   "source": [
    "george <- filter(baby.names, Name == \"George\")"
   ]
  },
  {
   "cell_type": "code",
   "execution_count": null,
   "metadata": {},
   "outputs": [],
   "source": [
    "# 2.  Arrange the data you produced in step 1 above by `Count`. \n",
    "#     In which year was the name most popular?"
   ]
  },
  {
   "cell_type": "code",
   "execution_count": null,
   "metadata": {},
   "outputs": [],
   "source": [
    "arrange(george, desc(Count))"
   ]
  },
  {
   "cell_type": "code",
   "execution_count": null,
   "metadata": {},
   "outputs": [],
   "source": [
    "# 3.  BONUS (optional): Filter the data to extract _only_ the \n",
    "#     row containing the most popular boys name in 1999."
   ]
  },
  {
   "cell_type": "code",
   "execution_count": null,
   "metadata": {},
   "outputs": [],
   "source": [
    "boys.1999 <- filter(baby.names, \n",
    "                    Year == 1999 & Sex == \"Boys\")"
   ]
  },
  {
   "cell_type": "code",
   "execution_count": null,
   "metadata": {},
   "outputs": [],
   "source": [
    "filter(boys.1999, Count == max(Count))"
   ]
  },
  {
   "cell_type": "markdown",
   "metadata": {},
   "source": [
    "Plotting baby name trends over time\n",
    "===================================\n",
    "\n",
    "It can be difficult to spot trends when looking at summary tables.\n",
    "Plotting the data makes it easier to identify interesting patterns.\n",
    "\n",
    "R has decent plotting tools built-in -- see e.g., `help(plot)`.\n",
    "However, To make things easier on ourselves we will use a *contributed\n",
    "package* called `ggplot2` instead."
   ]
  },
  {
   "cell_type": "code",
   "execution_count": null,
   "metadata": {},
   "outputs": [],
   "source": [
    "## install.packages(\"ggplot2\")\n",
    "library(ggplot2)"
   ]
  },
  {
   "cell_type": "markdown",
   "metadata": {},
   "source": [
    "For quick and simple plots we can use the `qplot` function. For example,\n",
    "we can plot the number of babies given the name \"Diana\" over time like this:"
   ]
  },
  {
   "cell_type": "code",
   "execution_count": null,
   "metadata": {},
   "outputs": [],
   "source": [
    "diana <- filter(baby.names, Name == \"Diana\")"
   ]
  },
  {
   "cell_type": "code",
   "execution_count": null,
   "metadata": {},
   "outputs": [],
   "source": [
    "qplot(x = Year, y = Count,\n",
    "     data = diana)"
   ]
  },
  {
   "cell_type": "markdown",
   "metadata": {},
   "source": [
    "Interetingly there are usually some gender-atypical names, even for very strongly \n",
    "gendered names like \"Diana\". Splitting these trends out by Sex is very easy:"
   ]
  },
  {
   "cell_type": "code",
   "execution_count": null,
   "metadata": {
    "lines_to_next_cell": 2
   },
   "outputs": [],
   "source": [
    "qplot(x = Year, y = Count, color = Sex,\n",
    "      data = diana)"
   ]
  },
  {
   "cell_type": "markdown",
   "metadata": {
    "lines_to_next_cell": 0
   },
   "source": [
    "Exercise 3: Plotting peak popularity of your name\n",
    "-----------------------------\n",
    "\n",
    "Make sure the `ggplot2` package is installed, and that you \n",
    "have attached it using `library(ggplot2)`.\n",
    "\n",
    "1.  Use `filter` to extract data for your name (same as previous exercise)"
   ]
  },
  {
   "cell_type": "code",
   "execution_count": null,
   "metadata": {},
   "outputs": [],
   "source": [
    "##"
   ]
  },
  {
   "cell_type": "markdown",
   "metadata": {
    "lines_to_next_cell": 0
   },
   "source": [
    "2.  Plot the data you produced in step 1 above, with `Year` on the x-axis\n",
    "    and `Count` on the y-axis."
   ]
  },
  {
   "cell_type": "code",
   "execution_count": null,
   "metadata": {},
   "outputs": [],
   "source": [
    "##"
   ]
  },
  {
   "cell_type": "markdown",
   "metadata": {
    "lines_to_next_cell": 0
   },
   "source": [
    "3. Adjust the plot so that is shows boys and girls in different colors."
   ]
  },
  {
   "cell_type": "code",
   "execution_count": null,
   "metadata": {},
   "outputs": [],
   "source": [
    "##"
   ]
  },
  {
   "cell_type": "markdown",
   "metadata": {},
   "source": [
    "4. BONUS (Optional): Adust the plot to use lines instead of points."
   ]
  },
  {
   "cell_type": "markdown",
   "metadata": {},
   "source": [
    "Exercise 3 solution<span class=\"tag\" data-tag-name=\"prototype\"></span>\n",
    "----------------------------------------------------------------------"
   ]
  },
  {
   "cell_type": "code",
   "execution_count": null,
   "metadata": {
    "purl": false
   },
   "outputs": [],
   "source": [
    "# 1. Use `filter` to extract data for your name (same as previous exercise)  "
   ]
  },
  {
   "cell_type": "code",
   "execution_count": null,
   "metadata": {},
   "outputs": [],
   "source": [
    "george <- filter(baby.names, Name == \"George\")"
   ]
  },
  {
   "cell_type": "code",
   "execution_count": null,
   "metadata": {},
   "outputs": [],
   "source": [
    "# 2.  Plot the data you produced in step 1 above, with `Year` on the x-axis\n",
    "#     and `Count` on the y-axis."
   ]
  },
  {
   "cell_type": "code",
   "execution_count": null,
   "metadata": {},
   "outputs": [],
   "source": [
    "qplot(x = Year, y = Count, data = george)"
   ]
  },
  {
   "cell_type": "code",
   "execution_count": null,
   "metadata": {},
   "outputs": [],
   "source": [
    "# 3. Adjust the plot so that is shows boys and girls in different colors."
   ]
  },
  {
   "cell_type": "code",
   "execution_count": null,
   "metadata": {},
   "outputs": [],
   "source": [
    "qplot(x = Year, y = Count, color = Sex, data = george)"
   ]
  },
  {
   "cell_type": "code",
   "execution_count": null,
   "metadata": {},
   "outputs": [],
   "source": [
    "# 4.  BONUS (Optional): Adust the plot to use lines instead of points."
   ]
  },
  {
   "cell_type": "code",
   "execution_count": null,
   "metadata": {},
   "outputs": [],
   "source": [
    "qplot(x = Year, y = Count, color = Sex, data = george, geom = \"line\")"
   ]
  },
  {
   "cell_type": "code",
   "execution_count": null,
   "metadata": {},
   "outputs": [],
   "source": []
  },
  {
   "cell_type": "markdown",
   "metadata": {},
   "source": [
    "Finding the most popular names\n",
    "==============================\n",
    "\n",
    "Our next goal is to find out which names have been the most popular.\n",
    "\n",
    "Computing better measures of popularity\n",
    "---------------------------------------\n",
    "\n",
    "So far we've used `Count` as a measure of popularity. A better\n",
    "approach is to use proportion or rank to avoid confounding \n",
    "popularity with the number of babies born in a given year. \n",
    "\n",
    "The `mutate` function makes it easy to add or modify the columns \n",
    "of a `data.frame`. For example, we can use it compute the \n",
    "log of the number of boys and girls given each name in each year:"
   ]
  },
  {
   "cell_type": "code",
   "execution_count": null,
   "metadata": {},
   "outputs": [],
   "source": [
    "baby.names <- mutate(baby.names, logCount = Count/1000)\n",
    "baby.names"
   ]
  },
  {
   "cell_type": "markdown",
   "metadata": {},
   "source": [
    "Operating by group\n",
    "------------------\n",
    "\n",
    "Because of the nested nature of out data, we want to compute rank \n",
    "or proportion  within each `Sex` `X` `Year` group. The `dplyr` \n",
    "package makes this relatively easy.\n"
   ]
  },
  {
   "cell_type": "code",
   "execution_count": null,
   "metadata": {},
   "outputs": [],
   "source": [
    "baby.names <- mutate(group_by(baby.names, Year, Sex),\n",
    "                     Rank = rank(Count))"
   ]
  },
  {
   "cell_type": "markdown",
   "metadata": {
    "lines_to_next_cell": 0
   },
   "source": [
    "Note that the data remains grouped until you change the groups by\n",
    "running `group_by` again or remove grouping information with\n",
    "`ungroup`.\n",
    "\n",
    "Exercise 4: Most popular names\n",
    "-----------------------------\n",
    "\n",
    "In this exercise your goal is to identify the most popular names for each year.\n",
    "\n",
    "1.  Use `mutate` and `group_by` to create a column named \"Proportion\"\n",
    "    where `Proportion = Count/sum(Count)` for each `Year X Sex` group."
   ]
  },
  {
   "cell_type": "code",
   "execution_count": null,
   "metadata": {},
   "outputs": [],
   "source": [
    "##"
   ]
  },
  {
   "cell_type": "markdown",
   "metadata": {},
   "source": [
    "2.  Use `mutate` and `group_by` to create a column named \"Rank\" where \n",
    "    `Rank = rank(-Count)` for each `Year X Sex` group. "
   ]
  },
  {
   "cell_type": "code",
   "execution_count": null,
   "metadata": {},
   "outputs": [],
   "source": [
    "##"
   ]
  },
  {
   "cell_type": "markdown",
   "metadata": {
    "lines_to_next_cell": 0
   },
   "source": [
    "3.  Filter the baby names data to display only the most popular name \n",
    "    for each `Year X Sex` group."
   ]
  },
  {
   "cell_type": "code",
   "execution_count": null,
   "metadata": {},
   "outputs": [],
   "source": [
    "##"
   ]
  },
  {
   "cell_type": "markdown",
   "metadata": {
    "lines_to_next_cell": 0
   },
   "source": [
    "4. Plot the data produced in step 4, putting `Year` on the x-axis\n",
    "    and `Proportion` on the y-axis. How has the proportion of babies\n",
    "    given the most popular name changed over time?"
   ]
  },
  {
   "cell_type": "code",
   "execution_count": null,
   "metadata": {},
   "outputs": [],
   "source": [
    "##"
   ]
  },
  {
   "cell_type": "markdown",
   "metadata": {},
   "source": [
    "5. BONUS (optional): Which names are the most popular for both boys and girls?\n",
    "\n",
    "Exercise 4 solution<span class=\"tag\" data-tag-name=\"prototype\"></span>\n",
    "----------------------------------------------------------------------"
   ]
  },
  {
   "cell_type": "code",
   "execution_count": null,
   "metadata": {
    "purl": false
   },
   "outputs": [],
   "source": [
    "## 1.  Use `mutate` and `group_by` to create a column named \"Proportion\"\n",
    "##     where `Proportion = Count/sum(Count)` for each `Year X Sex` group."
   ]
  },
  {
   "cell_type": "code",
   "execution_count": null,
   "metadata": {},
   "outputs": [],
   "source": [
    "baby.names <- mutate(group_by(baby.names, Year, Sex),\n",
    "                     Proportion = Count/sum(Count))"
   ]
  },
  {
   "cell_type": "code",
   "execution_count": null,
   "metadata": {},
   "outputs": [],
   "source": [
    "## 2.  Use `mutate` and `group_by` to create a column named \"Rank\" where \n",
    "##     `Rank = rank(-Count)` for each `Year X Sex` group."
   ]
  },
  {
   "cell_type": "code",
   "execution_count": null,
   "metadata": {},
   "outputs": [],
   "source": [
    "baby.names <- mutate(group_by(baby.names, Year, Sex),\n",
    "                     Rank = rank(-Count))"
   ]
  },
  {
   "cell_type": "code",
   "execution_count": null,
   "metadata": {},
   "outputs": [],
   "source": [
    "## 3.  Filter the baby names data to display only the most popular name \n",
    "##     for each `Year X Sex` group."
   ]
  },
  {
   "cell_type": "code",
   "execution_count": null,
   "metadata": {},
   "outputs": [],
   "source": [
    "top1 <- filter(baby.names, Rank == 1)"
   ]
  },
  {
   "cell_type": "code",
   "execution_count": null,
   "metadata": {},
   "outputs": [],
   "source": [
    "## 4. Plot the data produced in step 3, putting `Year` on the x-axis\n",
    "##    and `Proportion` on the y-axis. How has the proportion of babies\n",
    "##    given the most popular name changed over time?"
   ]
  },
  {
   "cell_type": "code",
   "execution_count": null,
   "metadata": {},
   "outputs": [],
   "source": [
    "qplot(x = Year, y = Proportion, color = Sex, \n",
    "      data = top1, \n",
    "      geom = \"line\")"
   ]
  },
  {
   "cell_type": "code",
   "execution_count": null,
   "metadata": {},
   "outputs": [],
   "source": [
    "## 5. BONUS (optional): Which names are the most popular for both boys \n",
    "##    and girls?"
   ]
  },
  {
   "cell_type": "code",
   "execution_count": null,
   "metadata": {},
   "outputs": [],
   "source": [
    "girls.and.boys <- inner_join(filter(baby.names, Sex == \"Boys\"), \n",
    "                             filter(baby.names, Sex == \"Girls\"),\n",
    "                             by = c(\"Year\", \"Name\"))"
   ]
  },
  {
   "cell_type": "code",
   "execution_count": null,
   "metadata": {},
   "outputs": [],
   "source": [
    "girls.and.boys <- mutate(girls.and.boys,\n",
    "                         Product = Count.x * Count.y,\n",
    "                         Rank = rank(-Product))"
   ]
  },
  {
   "cell_type": "code",
   "execution_count": null,
   "metadata": {},
   "outputs": [],
   "source": [
    "filter(girls.and.boys, Rank == 1)"
   ]
  },
  {
   "cell_type": "markdown",
   "metadata": {},
   "source": [
    "Percent choosing one of the top 10 names\n",
    "========================================\n",
    "\n",
    "You may have noticed that the percentage of babies given the most \n",
    "popular name of the year appears to have decreases over time. We can\n",
    "compute a more robust measure of the popularity of the most popular\n",
    "names by calculating the number of babies given one of the top 10 girl\n",
    "or boy names of the year.\n",
    "\n",
    "In order to compute this measure we need to operate within goups, as\n",
    "we did using `mutate` above, but this time we need to collapse each\n",
    "group into a single summary statistic. We can achive this using the\n",
    "`summarize` function. For example, we can calculate the number of\n",
    "babies born each year:"
   ]
  },
  {
   "cell_type": "code",
   "execution_count": null,
   "metadata": {
    "lines_to_next_cell": 2
   },
   "outputs": [],
   "source": [
    "bn.by.year <- summarize(group_by(baby.names, Year),\n",
    "                       Total = sum(Count))\n",
    "bn.by.year"
   ]
  },
  {
   "cell_type": "markdown",
   "metadata": {
    "lines_to_next_cell": 0
   },
   "source": [
    "Exercise 4: Popularity of the most popular names\n",
    "------------------------------------------------\n",
    "\n",
    "In this exercise we will plot trends in the proportion of boys and girls given one of the 10 most popular names each year.\n",
    "\n",
    "1.  Filter the baby.names data, retaining only the 10 most popular girl\n",
    "    and boy names for each year."
   ]
  },
  {
   "cell_type": "code",
   "execution_count": null,
   "metadata": {},
   "outputs": [],
   "source": [
    "##"
   ]
  },
  {
   "cell_type": "markdown",
   "metadata": {
    "lines_to_next_cell": 0
   },
   "source": [
    "2.  Summarize the data produced in step one to calculate the total\n",
    "    Proportion of boys and girls given one of the top 10 names\n",
    "    each year."
   ]
  },
  {
   "cell_type": "code",
   "execution_count": null,
   "metadata": {},
   "outputs": [],
   "source": [
    "##"
   ]
  },
  {
   "cell_type": "markdown",
   "metadata": {
    "lines_to_next_cell": 0
   },
   "source": [
    "3.  Plot the data produced in step 2, with year on the x-axis\n",
    "    and total proportion on the y axis. Color by sex."
   ]
  },
  {
   "cell_type": "code",
   "execution_count": null,
   "metadata": {},
   "outputs": [],
   "source": [
    "##"
   ]
  },
  {
   "cell_type": "markdown",
   "metadata": {},
   "source": [
    "Exercise 4 solution<span class=\"tag\" data-tag-name=\"prototype\"></span>\n",
    "----------------------------------------------------------------------"
   ]
  },
  {
   "cell_type": "code",
   "execution_count": null,
   "metadata": {
    "purl": false
   },
   "outputs": [],
   "source": [
    "## 1.  Filter the baby.names data, retaining only the 10 most \n",
    "##     popular girl and boy names for each year."
   ]
  },
  {
   "cell_type": "code",
   "execution_count": null,
   "metadata": {},
   "outputs": [],
   "source": [
    "most.popular <- filter(group_by(baby.names, Year, Sex),\n",
    "                       Rank <= 10)"
   ]
  },
  {
   "cell_type": "code",
   "execution_count": null,
   "metadata": {},
   "outputs": [],
   "source": [
    "## 2.  Summarize the data produced in step one to calculate the total\n",
    "##     Proportion of boys and girls given one of the top 10 names\n",
    "##     each year."
   ]
  },
  {
   "cell_type": "code",
   "execution_count": null,
   "metadata": {},
   "outputs": [],
   "source": [
    "top10 <- summarize(group_by(most.popular, Year, Sex),\n",
    "                   TotalProportion = sum(Proportion))"
   ]
  },
  {
   "cell_type": "code",
   "execution_count": null,
   "metadata": {},
   "outputs": [],
   "source": [
    "## 3.  Plot the data produced in step 2, with year on the x-axis\n",
    "##     and total proportion on the y axis. Color by sex."
   ]
  },
  {
   "cell_type": "code",
   "execution_count": null,
   "metadata": {
    "lines_to_next_cell": 2
   },
   "outputs": [],
   "source": [
    "qplot(x = Year, y = TotalProportion, color = Sex,\n",
    "      data = top10,\n",
    "      geom = \"line\")"
   ]
  },
  {
   "cell_type": "markdown",
   "metadata": {},
   "source": [
    "Saving our Work\n",
    "==============\n",
    "\n",
    "Now that we have made some changes to our data set, we might want to\n",
    "save those changes to a file.\n",
    "\n",
    "Saving individual datasets\n",
    "--------------------------"
   ]
  },
  {
   "cell_type": "code",
   "execution_count": null,
   "metadata": {},
   "outputs": [],
   "source": [
    "# write data to a .csv file\n",
    "write_csv(baby.names, \"babyNames.csv\")"
   ]
  },
  {
   "cell_type": "code",
   "execution_count": null,
   "metadata": {},
   "outputs": [],
   "source": [
    "# write data to an R file\n",
    "write_rds(baby.names, \"babyNames.rds\")"
   ]
  },
  {
   "cell_type": "markdown",
   "metadata": {},
   "source": [
    "Saving and loading R workspaces\n",
    "-------------------------------\n",
    "\n",
    "In addition to importing individual datasets, R can save and load entire\n",
    "workspaces"
   ]
  },
  {
   "cell_type": "code",
   "execution_count": null,
   "metadata": {},
   "outputs": [],
   "source": [
    "ls() # list objects in our workspace\n",
    "save.image(file=\"myWorkspace.RData\") # save workspace \n",
    "rm(list=ls()) # remove all objects from our workspace \n",
    "ls() # list stored objects to make sure they are deleted"
   ]
  },
  {
   "cell_type": "code",
   "execution_count": null,
   "metadata": {
    "lines_to_next_cell": 2
   },
   "outputs": [],
   "source": [
    "## Load the \"myWorkspace.RData\" file and check that it is restored\n",
    "load(\"myWorkspace.RData\") # load myWorkspace.RData\n",
    "ls() # list objects"
   ]
  },
  {
   "cell_type": "markdown",
   "metadata": {},
   "source": [
    "Wrap-up\n",
    "=======\n",
    "\n",
    "Help us make this workshop better!\n",
    "----------------------------------\n",
    "\n",
    "Please take a moment to fill out a very short feedback form. These\n",
    "workshops exist for you -- tell us what you need!\n",
    "<http://tinyurl.com/R-intro-feedback>\n",
    "\n",
    "Additional resources\n",
    "--------------------\n",
    "\n",
    "-   IQSS workshops:\n",
    "    <http://projects.iq.harvard.edu/rtc/filter_by/workshops>\n",
    "-   IQSS statistical consulting: <http://dss.iq.harvard.edu>\n",
    "-   Software (all free!):\n",
    "    -   R and R package download: <http://cran.r-project.org>\n",
    "    -   Rstudio download: <http://rstudio.org>\n",
    "    -   ESS (emacs R package): <http://ess.r-project.org/>\n",
    "-   Online tutorials\n",
    "    -   <http://www.codeschool.com/courses/try-r>\n",
    "    -   <http://www.datacamp.org>\n",
    "    -   <http://swirlstats.com/>\n",
    "    -   <http://r4ds.had.co.nz/>\n",
    "-   Getting help:\n",
    "    -   Documentation and tutorials:\n",
    "        <http://cran.r-project.org/other-docs.html>\n",
    "    -   Recommended R packages by topic:\n",
    "        <http://cran.r-project.org/web/views/>\n",
    "    -   Mailing list: <https://stat.ethz.ch/mailman/listinfo/r-help>\n",
    "    -   StackOverflow: <http://stackoverflow.com/questions/tagged/r>\n",
    "-   Coming from...\n",
    "    Stata\n",
    "    :   <http://www.princeton.edu/~otorres/RStata.pdf>\n",
    "    SAS/SPSS\n",
    "    :   <http://www.et.bs.ehu.es/~etptupaf/pub/R/RforSAS&SPSSusers.pdf>\n",
    "   matlab\n",
    "   :   <http://www.math.umaine.edu/~hiebeler/comp/matlabR.pdf>\n",
    "    Python\n",
    "    :   <http://mathesaurus.sourceforge.net/matlab-python-xref.pdf>"
   ]
  }
 ],
 "metadata": {
  "jupytext_formats": "ipynb,Rmd:rmarkdown,R:spin",
  "kernelspec": {
   "display_name": "R",
   "language": "R",
   "name": "ir"
  },
  "language_info": {
   "codemirror_mode": "r",
   "file_extension": ".r",
   "mimetype": "text/x-r-source",
   "name": "R",
   "pygments_lexer": "r",
   "version": "3.5.2"
  },
  "toc": {
   "base_numbering": 1,
   "nav_menu": {},
   "number_sections": true,
   "sideBar": true,
   "skip_h1_title": false,
   "title_cell": "Table of Contents",
   "title_sidebar": "Contents",
   "toc_cell": false,
   "toc_position": {},
   "toc_section_display": true,
   "toc_window_display": true
  }
 },
 "nbformat": 4,
 "nbformat_minor": 2
}
