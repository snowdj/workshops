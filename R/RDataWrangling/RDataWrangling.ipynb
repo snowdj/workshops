{
 "cells": [
  {
   "cell_type": "markdown",
   "metadata": {},
   "source": [
    "---\n",
    "title: \"R Data Wrangling\"\n",
    "output: \n",
    "  html_document:\n",
    "    highlight: tango\n",
    "    toc: true\n",
    "    toc_float:\n",
    "      collapsed: true\n",
    "---\n",
    "\n",
    "\n",
    "\n",
    "Workshop description\n",
    "====================\n",
    "\n",
    "Data scientists are known and celebrated for modeling and visually\n",
    "displaying information, but down in the data science engine room there\n",
    "is a lot of less glamorous work to be done. Before data can be used\n",
    "effectively it must often be cleaned, corrected, and reformatted. This\n",
    "workshop introduces the basic tools needed to make your data behave,\n",
    "including data reshaping, regular expressions and other text\n",
    "manipulation tools.\n",
    "\n",
    "This is an intermediate/advanced R course appropriate for those with\n",
    "basic knowledge of R. If you need a refresher we recommend the\n",
    "[the IQSS R intro](http://tutorials.iq.harvard.edu/R/Rintro/Rintro.html).\n",
    "\n",
    "The lesson notes are available at\n",
    "<http://tutorials.iq.harvard.edu/R/RDataManagement/RDataManagement.html>\n",
    "\n",
    "Prerequisites and Preparation\n",
    "=============================\n",
    "\n",
    "Prior to the workshop you should:\n",
    "\n",
    "- install R from <https://cran.r-project.org/>\n",
    "- install RStudio from <https://www.rstudio.com/products/rstudio/download/#download>\n",
    "- install the tidyverse package in R with `install.packages(\"tidyverse\")` and attach it with `library(tidyverse)`\n",
    "\n",
    "To start the workshop:\n",
    "- Download and extract the materials from <http://tutorials.iq.harvard.edu/R/RDataManagement.zip>. \n",
    "- Open Rstudio and create a new project (`File ==> New Project ==> Existing Directory` and select the `RDataManagement` folder you downloaded and extracted earlier. \n",
    "- Open a new R script (`File ==> New File ==> R script`) and save it as `Notes.R`.\n",
    "\n",
    "\n",
    "Example project overview\n",
    "========================\n",
    "\n",
    "It is common for data to be made available on a website somewhere, either by a\n",
    "government agency, research group, or other organizations and entities. Often\n",
    "the data you want is spread over many files, and retrieving it all one file at a\n",
    "time is tedious and time consuming. Such is the case with the baby names data we\n",
    "will be using today.\n",
    "\n",
    "The UK [Office for National Statistics](https://www.ons.gov.uk) provides yearly\n",
    "data on the most popular baby names going back to 1996. The data is provided\n",
    "separately for boys and girls and is stored in Excel spreadsheets.\n",
    "\n",
    "I have downloaded all the excel files containing boys names data from\n",
    "https://www.ons.gov.uk/peoplepopulationandcommunity/birthsdeathsandmarriages/livebirths/datasets/babynamesenglandandwalesbabynamesstatisticsboys \n",
    "and made them available at \n",
    "http://tutorials.iq.harvard.edu/R/RDataManagement/data/boysNames.zip.\n",
    "\n",
    "Our mission is to extract and graph the **top 100** boys names in England\n",
    "and Wales for every year since 1996. There are several things that\n",
    "make this challenging.\n",
    "\n",
    "Problems with the data\n",
    "======================\n",
    "\n",
    "While it was good of the UK Office for National Statistics to provide\n",
    "baby name data, they were not very diligent about arranging it in a\n",
    "convenient or consistent format.\n"
   ]
  },
  {
   "cell_type": "markdown",
   "metadata": {},
   "source": [
    "Exercise 0\n",
    "----------\n",
    "Our mission is to extract and graph the **top 100** boys names in England and Wales for every year since 1996. There are several things that make this challenging.\n",
    "\n",
    "1.  Locate the file named `1996boys_tcm77-254026.xlsx` and open it in\n",
    "    a spreadsheet. (If you don't have a spreadsheet program installed on\n",
    "    your computer you can downloads one from\n",
    "    https://www.libreoffice.org/download/download/). What issues can you\n",
    "    identify that might make working with these data more difficult?\n",
    "\n",
    "2.  Locate the file named `2015boysnamesfinal.xlsx` and open it in a\n",
    "    spreadsheet. In what ways is the format different than the format\n",
    "    of `1996boys_tcm77-254026.xlsx`? How might these differences make\n",
    "    it more difficult to work with these data?\n"
   ]
  },
  {
   "cell_type": "markdown",
   "metadata": {},
   "source": [
    "Exercise 0 Prototype\n",
    "-------------------------------\n",
    "\n",
    "> 1.  Locate the file named `1996boys_tcm77-254026.xlsx` and open it in\n",
    ">     a spreadsheet. (If you don't have a spreadsheet program installed on\n",
    ">     your computer you can downloads one from\n",
    ">     https://www.libreoffice.org/download/download/). What issues can you\n",
    ">     identify that might make working with these data more difficult?\n",
    "\n",
    "The data does not start on row one. Headers are on row 7, followed by\n",
    "a blank line, followed by the actual data.\n",
    "\n",
    "The data is stored in an inconvenient way, with ranks 1-50 in the\n",
    "first set of columns and ranks 51-100 in a separate set of columns.\n",
    "\n",
    "There are notes below the data.\n",
    "\n",
    "> 3.  Locate the file named `2015boysnamesfinal.xlsx` and open it in a\n",
    ">     spreadsheet. In what ways is the format different than the format\n",
    ">     of `1996boys_tcm77-254026.xlsx`? How might these differences make\n",
    ">     it more difficult to work with these data?\n",
    "\n",
    "The worksheet containing the data of interest is in different\n",
    "positions and has different names from one year to the next. However,\n",
    "it always includes \"Table 1\" in the worksheet name.\n",
    "\n",
    "Some years include columns for \"changes in rank\", others do not.\n",
    "\n",
    "These differences will make it more difficult to automate\n",
    "re-arranging the data since we have to write code that can handle\n",
    "different input formats.\n"
   ]
  },
  {
   "cell_type": "markdown",
   "metadata": {},
   "source": [
    "Useful data manipulation packages\n",
    "=================================\n",
    "\n",
    "As you can see, the data is in quite a messy state. Note that this is\n",
    "not a contrived example; this is exactly the way the data came to us\n",
    "from the UK government website! Let's start cleaning and organizing\n",
    "it. The `tidyverse` suite of packages provides many modern\n",
    "conveniences that will make this job easier."
   ]
  },
  {
   "cell_type": "code",
   "execution_count": null,
   "metadata": {},
   "outputs": [],
   "source": [
    "library(tidyverse)"
   ]
  },
  {
   "cell_type": "markdown",
   "metadata": {},
   "source": [
    "Working with Excel worksheets\n",
    "=============================\n",
    "\n",
    "Each Excel file contains a worksheet with the baby names data we want.\n",
    "Each file also contains additional supplemental worksheets that we are\n",
    "not currently interested in. As noted above, the worksheet of interest\n",
    "differs from year to year, but always has \"Table 1\" in the sheet name.\n",
    "\n",
    "The first step is to get a vector of file names."
   ]
  },
  {
   "cell_type": "code",
   "execution_count": null,
   "metadata": {},
   "outputs": [],
   "source": [
    "boy.file.names <- list.files(\"data/boys\", full.names = TRUE)"
   ]
  },
  {
   "cell_type": "markdown",
   "metadata": {},
   "source": [
    "Now that we've told R the names of the data files we can start working\n",
    "with them. For example, the first file is"
   ]
  },
  {
   "cell_type": "code",
   "execution_count": null,
   "metadata": {},
   "outputs": [],
   "source": [
    "boy.file.names[[1]]"
   ]
  },
  {
   "cell_type": "markdown",
   "metadata": {},
   "source": [
    "and we can use the `excel_sheets` function from the *readxl* package\n",
    "to list the worksheet names from this file."
   ]
  },
  {
   "cell_type": "code",
   "execution_count": null,
   "metadata": {},
   "outputs": [],
   "source": [
    "library(readxl)\n",
    "\n",
    "excel_sheets(boy.file.names[[1]])"
   ]
  },
  {
   "cell_type": "markdown",
   "metadata": {},
   "source": [
    "Iterating over file names with `map`\n",
    "-----------------------------------\n",
    "\n",
    "Now that we know how to retrieve the names of the worksheets in an\n",
    "Excel file we could start writing code to extract the sheet names from\n",
    "each file, e.g.,"
   ]
  },
  {
   "cell_type": "code",
   "execution_count": null,
   "metadata": {},
   "outputs": [],
   "source": [
    "excel_sheets(boy.file.names[[1]])\n",
    "excel_sheets(boy.file.names[[2]])\n",
    "## ...\n",
    "excel_sheets(boy.file.names[[20]])"
   ]
  },
  {
   "cell_type": "markdown",
   "metadata": {},
   "source": [
    "This is not a terrible idea for a small number of files, but it is\n",
    "more convenient to let R do the iteration for us. We could use a `for`\n",
    "loop, or `sapply`, but the `map` family of functions from the *purrr*\n",
    "package gives us a more consistent alternative, so we'll use that."
   ]
  },
  {
   "cell_type": "code",
   "execution_count": null,
   "metadata": {},
   "outputs": [],
   "source": [
    "library(purrr)\n",
    "map(boy.file.names, excel_sheets)"
   ]
  },
  {
   "cell_type": "markdown",
   "metadata": {},
   "source": [
    "Filtering strings using regular expressions\n",
    "--------------------------------------------\n",
    "\n",
    "In order extract the correct worksheet names we need a way to extract\n",
    "strings containing \"Table 1\". Base R provides some string manipulation\n",
    "capabilities (see `?regex`, `?sub` and `?grep`), but we will use the\n",
    "*stringr* package because it is more user-friendly.\n",
    "\n",
    "The *stringr* package provides functions to *detect*, *locate*,\n",
    "*extract*, *match*, *replace*, *combine* and *split* strings (among\n",
    "other things). \n",
    "\n",
    "Here we want to detect the pattern \"Table 1\", and only\n",
    "return elements with this pattern. We can do that using the\n",
    "`str_subset` function. The first argument to `str_subset` is character\n",
    "vector we want to search in. The second argument is a *regular\n",
    "expression* matching the pattern we want to retain.\n",
    "\n",
    "If you are not familiar with regular expressions, <http://www.regexr.com/> is a\n",
    "good place to start.\n",
    "\n",
    "Now that we know how to filter character vectors using `str_subset` we can\n",
    "identify the correct sheet in a particular Excel file. For example,"
   ]
  },
  {
   "cell_type": "code",
   "execution_count": null,
   "metadata": {},
   "outputs": [],
   "source": [
    "library(stringr)\n",
    "str_subset(excel_sheets(boy.file.names[[1]]), \"Table 1\")"
   ]
  },
  {
   "cell_type": "markdown",
   "metadata": {},
   "source": [
    "Writing your own functions\n",
    "--------------------------\n",
    "\n",
    "The `map*` functions are useful when you want to apply a function to a\n",
    "list or vector of inputs and obtain the return values. This is very\n",
    "convenient when a function already exists that does exactly what you\n",
    "want. In the examples above we mapped the `excel_sheets` function to\n",
    "the elements of a vector containing file names. But now there is no\n",
    "function that both retrieves worksheet names and subsets them.\n",
    "Fortunately, writing functions in R is easy."
   ]
  },
  {
   "cell_type": "code",
   "execution_count": null,
   "metadata": {},
   "outputs": [],
   "source": [
    "get.data.sheet.name <- function(file, pattern) {\n",
    "    str_subset(excel_sheets(file), pattern)\n",
    "}"
   ]
  },
  {
   "cell_type": "markdown",
   "metadata": {},
   "source": [
    "Now we can map this new function over our vector of file names."
   ]
  },
  {
   "cell_type": "code",
   "execution_count": null,
   "metadata": {},
   "outputs": [],
   "source": [
    "map(boy.file.names,\n",
    "    get.data.sheet.name,\n",
    "    pattern = \"Table 1\")"
   ]
  },
  {
   "cell_type": "markdown",
   "metadata": {},
   "source": [
    "Reading Excel data files\n",
    "========================\n",
    "\n",
    "Now that we know the correct worksheet from each file we can actually\n",
    "read those data into R. We can do that using the `read_excel`\n",
    "function.\n",
    "\n",
    "We'll start by reading the data from the first file, just to check\n",
    "that it works. Recall that the actual data starts on row 7, so we want\n",
    "to skip the first 6 rows."
   ]
  },
  {
   "cell_type": "code",
   "execution_count": null,
   "metadata": {},
   "outputs": [],
   "source": [
    "tmp <- read_excel(\n",
    "    boy.file.names[1],\n",
    "    sheet = get.data.sheet.name(boy.file.names[1],\n",
    "                                pattern = \"Table 1\"),\n",
    "    skip = 6)\n",
    "\n",
    "library(dplyr, quietly=TRUE)\n",
    "glimpse(tmp)"
   ]
  },
  {
   "cell_type": "markdown",
   "metadata": {},
   "source": [
    "Exercise 1\n",
    "-----------\n",
    "\n",
    "  1. Write a function that takes a file name as an argument and reads\n",
    "     the worksheet containing \"Table 1\" from that file. Don't forget\n",
    "     to skip the first 6 rows.\n",
    "     \n",
    "  2. Test your function by using it to read *one* of the boys names\n",
    "     Excel files.\n",
    "     \n",
    "  3. Use the `map` function to read data from all the Excel files,\n",
    "     using the function you wrote in step 1.\n"
   ]
  },
  {
   "cell_type": "markdown",
   "metadata": {},
   "source": [
    "\n",
    "Exercise 1 solution\n",
    "---------------------------"
   ]
  },
  {
   "cell_type": "code",
   "execution_count": null,
   "metadata": {},
   "outputs": [],
   "source": [
    "  ## 1. Write a function that takes a file name as an argument and reads\n",
    "  ##    the worksheet containing \"Table 1\" from that file.\n",
    "  read.baby.names <- function(file) {\n",
    "      sheet.name <- str_subset(excel_sheets(file), \"Table 1\")\n",
    "      read_excel(file, sheet = sheet.name, skip = 6)\n",
    "  }\n",
    "  \n",
    "  ## 2. Test your function by using it to read *one* of the boys names\n",
    "  ##    Excel files.\n",
    "  glimpse(read.baby.names(boy.file.names[1]))\n",
    "     \n",
    "  ## 3. Use the `map` function to read data from all the Excel files,\n",
    "  ##    using the function you wrote in step 1.\n",
    "  boysNames <- map(boy.file.names, read.baby.names)"
   ]
  },
  {
   "cell_type": "markdown",
   "metadata": {},
   "source": [
    "Data cleanup\n",
    "================\n",
    "\n",
    "Now that we've read in the data we still have some cleanup to do.\n",
    "Specifically, we need to:\n",
    "\n",
    "1. fix column names\n",
    "2. get rid of blank row and the top and the notes at the bottom\n",
    "3. get rid of extraneous \"changes in rank\" columns if they exist\n",
    "4. transform the side-by-side tables layout to a single table.\n",
    "\n",
    "In short, we want to go from this:\n",
    "\n",
    "![messy](images/messy.png)\n",
    "\n",
    "to this:\n",
    "\n",
    "![tidy](images/clean.png)\n",
    "\n",
    "There are many ways to do this kind of data manipulation in R. We're\n",
    "going to use the *dplyr* and *tidyr* packages to make our lives\n",
    "easier. (Both packages were installed as dependencies of the\n",
    "*tidyverse* package.)\n"
   ]
  },
  {
   "cell_type": "markdown",
   "metadata": {},
   "source": [
    "Selecting columns\n",
    "---------------\n",
    "\n",
    "Next we want to retain just the `Name`, `Name__1` and `Count`,\n",
    "`Count__1` columns. We can do that using the `select` function:"
   ]
  },
  {
   "cell_type": "code",
   "execution_count": null,
   "metadata": {},
   "outputs": [],
   "source": [
    "boysNames[[1]]\n",
    "\n",
    "boysNames[[1]] <- select(boysNames[[1]], Name, Name__1, Count, Count__1)\n",
    "boysNames[[1]]"
   ]
  },
  {
   "cell_type": "markdown",
   "metadata": {},
   "source": [
    "Dropping missing values\n",
    "-----------------------\n",
    "\n",
    "Next we want to remove blank rows and rows used for notes. An easy way\n",
    "to do that is to use `drop_na` to remove rows with missing values."
   ]
  },
  {
   "cell_type": "code",
   "execution_count": null,
   "metadata": {},
   "outputs": [],
   "source": [
    "boysNames[[1]]\n",
    "\n",
    "boysNames[[1]] <- drop_na(boysNames[[1]])\n",
    "boysNames[[1]]"
   ]
  },
  {
   "cell_type": "markdown",
   "metadata": {},
   "source": [
    "Finally, we will want to filter out missing do this for all the elements in `boysNames`, a\n",
    "task I leave to you.\n",
    "\n",
    "Exercise 2\n",
    "-----------\n",
    "\n",
    "  1. Write a function that takes a `data.frame` as an argument and\n",
    "     returns a modified version including only columns named \"Name\",\n",
    "     \"Name\\_\\_1\", \"Count\", or \"Count\\_\\_1\". \n",
    "     \n",
    "  2. Test your function by using it to read *one* of the boys names\n",
    "     Excel files.\n",
    "     \n",
    "  3. Use the `map` function to read data from all the Excel files,\n",
    "     using the function you wrote in step 1.\n",
    "\n",
    "\n",
    "Exercise 2 solution<span class=\"tag\" data-tag-name=\"prototype\"></span>\n",
    "\n",
    "\n",
    "\n",
    "\n",
    "Re-arranging into a single table\n",
    "-----------------------------------------\n",
    "\n",
    "Our final task is to re-arrange to data so that it is all in a single\n",
    "table instead of in two side-by-side tables. For many similar tasks\n",
    "the `gather` function in the *tidyr* package is useful, but in this\n",
    "case we will be better off using a combination of `select` and\n",
    "`bind_rows`."
   ]
  },
  {
   "cell_type": "code",
   "execution_count": null,
   "metadata": {},
   "outputs": [],
   "source": [
    "boysNames[[1]]\n",
    "bind_rows(select(boysNames[[1]], Name, Count),\n",
    "          select(boysNames[[1]], Name = Name__1, Count = Count__1))"
   ]
  },
  {
   "cell_type": "markdown",
   "metadata": {},
   "source": [
    "Exercise 3: Cleanup all the data\n",
    "------------------------------\n",
    "\n",
    "In the previous examples we learned how to drop empty rows with\n",
    "`filter`, select only relevant columns with `select`, and re-arrange\n",
    "our data with `select` and `bind_rows`. In each case we applied the\n",
    "changes only to the first element of our `boysNames` list.\n",
    "\n",
    "Your task now is to use the `map` function to apply each of these\n",
    "transformations to all the elements in `boysNames`.\n"
   ]
  },
  {
   "cell_type": "markdown",
   "metadata": {},
   "source": [
    "Exercise prototype\n",
    "------------------\n",
    "There are different ways you can go about it. Here is one:\n"
   ]
  },
  {
   "cell_type": "code",
   "execution_count": null,
   "metadata": {},
   "outputs": [],
   "source": [
    "## write a function that does all the cleanup\n",
    "cleanupNamesData <- function(x) {\n",
    "    filtered <- filter(x, !is.na(Name)) # drop rows with no Name value\n",
    "    selected <- select(filtered, Name, Count, Name__1, Count__1) # select just Name and Count columns\n",
    "    bind_rows(select(selected, Name,  Count), # re-arrange into two columns\n",
    "              select(selected, Name = Name__1, Count = Count__1))\n",
    "}\n",
    "\n",
    "## test it out on the second data.frame in the list\n",
    "glimpse(boysNames[[2]]) # before cleanup\n",
    "glimpse(cleanupNamesData(boysNames[[2]])) # after cleanup\n",
    "\n",
    "## apply the cleanup function to all the data.frames in the list\n",
    "boysNames <- map(boysNames, cleanupNamesData)"
   ]
  },
  {
   "cell_type": "markdown",
   "metadata": {},
   "source": [
    "Data organization and storage\n",
    "========================\n",
    "Now that we have the data cleaned up and augmented, we can turn our attention to organizing and storing the data.\n"
   ]
  },
  {
   "cell_type": "markdown",
   "metadata": {},
   "source": [
    "One table for each year\n",
    "----------------------\n",
    "Right now we have a list of tables, one for each year. This is not a bad way to go. It has the advantage of making it easy to work with individual years; it has the disadvantage of making it more difficult to examine questions that require data from multiple years. To make the arrangement of the data clearer it helps to name each element of the list with the year it corresponds too."
   ]
  },
  {
   "cell_type": "code",
   "execution_count": null,
   "metadata": {},
   "outputs": [],
   "source": [
    "glimpse(head(boysNames))"
   ]
  },
  {
   "cell_type": "code",
   "execution_count": null,
   "metadata": {},
   "outputs": [],
   "source": [
    "years <- str_extract(boy.file.names, \"[0-9]{4}\")\n",
    "boysNames <- setNames(boysNames, years)\n",
    "glimpse(head(boysNames))"
   ]
  },
  {
   "cell_type": "markdown",
   "metadata": {},
   "source": [
    "One big table\n",
    "-------------\n",
    "\n",
    "While storing the data in separate tables by year makes some sense,\n",
    "many operations will be easier if the data is simply stored in one big\n",
    "table. We've already seen how to turn a list of data.frames into a\n",
    "single data.frame using `bind_rows`, but there is a problem; The year\n",
    "information is stored in the names of the list elements, and so\n",
    "flattening the tables into one will result in losing the year\n",
    "information! Fortunately it is not too much trouble to add the year\n",
    "information to each table before flattening."
   ]
  },
  {
   "cell_type": "code",
   "execution_count": null,
   "metadata": {},
   "outputs": [],
   "source": [
    "boysNames <- imap(boysNames,\n",
    "                  function(data, name) {\n",
    "                      mutate(data, Year = as.integer(name))\n",
    "                      })\n",
    "boysNames <- bind_rows(boysNames)\n",
    "\n",
    "glimpse(boysNames)"
   ]
  },
  {
   "cell_type": "markdown",
   "metadata": {},
   "source": [
    "Exercise: Make one big table\n",
    "-------------------------\n",
    "\n",
    "Turn the list of boys names data.frames into a single table. \n",
    "\n",
    "Create a directory under `data/all` and write the data to a `.csv`\n",
    "file.\n",
    "\n",
    "\n",
    "Finally, repeat the previous exercise, this time working with the data\n",
    "in one big table.\n",
    "\n",
    "Exercise prototype\n",
    "------------------\n",
    "\n",
    "Working with the data in one big table is often easier."
   ]
  },
  {
   "cell_type": "code",
   "execution_count": null,
   "metadata": {},
   "outputs": [],
   "source": [
    "boysNames <- bind_rows(boysNames)\n",
    "\n",
    "dir.create(\"data/all\")\n",
    "\n",
    "write_csv(boysNames, \"data/all/boys_names.csv\")\n",
    "\n",
    "## What where the five most popular names in 2013?\n",
    "slice(arrange(filter(boysNames, Year == 2013),\n",
    "              desc(Count)),\n",
    "      1:5)\n",
    "\n",
    "## How has the popularity of the name \"ANDREW\" changed over time?\n",
    "andrew <- filter(boysNames, Name == \"ANDREW\")\n",
    "\n",
    "ggplot(andrew, aes(x = Year, y = Count)) +\n",
    "    geom_line() +\n",
    "    ggtitle(\"Popularity of \\\"Andrew\\\", over time\")"
   ]
  },
  {
   "cell_type": "markdown",
   "metadata": {},
   "source": [
    "Additional reading and resources\n",
    "================================\n",
    "\n",
    "-   Learn from the best: <http://adv-r.had.co.nz/>;\n",
    "    <http://r4ds.had.co.nz/>\n",
    "-   R documentation: <http://cran.r-project.org/manuals.html>\n",
    "-   Collection of R tutorials:\n",
    "    <http://cran.r-project.org/other-docs.html>\n",
    "\n",
    "-   R for Programmers (by Norman Matloff, UC--Davis)\n",
    "\n",
    "<http://heather.cs.ucdavis.edu/~matloff/R/RProg.pdf>\n",
    "\n",
    "-   Calling C and Fortran from R (by Charles Geyer, UMinn)\n",
    "\n",
    "<http://www.stat.umn.edu/~charlie/rc/>\n",
    "\n",
    "-   State of the Art in Parallel Computing with R (Schmidberger et al.)\n",
    "\n",
    "<http://www.jstatso>|.org/v31/i01/paper\n",
    "\n",
    "-   Institute for Quantitative Social Science: <http://iq.harvard.edu>\n",
    "-   IQSS Data Science Services: <http://dss.iq.harvard.edu/>"
   ]
  }
 ],
 "metadata": {
  "jupytext_formats": "ipynb,Rmd,R",
  "kernelspec": {
   "display_name": "R",
   "language": "R",
   "name": "ir"
  },
  "language_info": {
   "codemirror_mode": "r",
   "file_extension": ".r",
   "mimetype": "text/x-r-source",
   "name": "R",
   "pygments_lexer": "r",
   "version": "3.5.1"
  },
  "toc": {
   "base_numbering": 1,
   "nav_menu": {},
   "number_sections": true,
   "sideBar": true,
   "skip_h1_title": false,
   "title_cell": "Table of Contents",
   "title_sidebar": "Contents",
   "toc_cell": false,
   "toc_position": {},
   "toc_section_display": true,
   "toc_window_display": false
  }
 },
 "nbformat": 4,
 "nbformat_minor": 2
}
